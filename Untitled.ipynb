{
 "cells": [
  {
   "cell_type": "code",
   "execution_count": 11,
   "metadata": {},
   "outputs": [
    {
     "name": "stdout",
     "output_type": "stream",
     "text": [
      "c:\\users\\brian\\.virtualenvs\\reddit-cshzggcc\\scripts\\python.exe\n"
     ]
    }
   ],
   "source": [
    "import sys\n",
    "print(sys.executable)\n"
   ]
  },
  {
   "cell_type": "code",
   "execution_count": 14,
   "metadata": {},
   "outputs": [
    {
     "name": "stdout",
     "output_type": "stream",
     "text": [
      "True\n"
     ]
    }
   ],
   "source": [
    "\n",
    "import csv\n",
    "import pickle\n",
    "import praw\n",
    "from Language import Language\n",
    "\n",
    "reddit = praw.Reddit(client_id=\"4QeEuusHAPZ8mA\",\n",
    "                     client_secret=\"RfgziDc5FR7umnIPEVGtJjg3Lv8\",\n",
    "                     user_agent=\"subreddit finder\")\n",
    "print(reddit.read_only)  # Output: True"
   ]
  },
  {
   "cell_type": "code",
   "execution_count": null,
   "metadata": {},
   "outputs": [],
   "source": [
    "commentTrees = []\n",
    "l = Language(\"nba\")\n",
    "\n",
    "for submission in reddit.subreddit(\"nba\").hot(limit=2):\n",
    "    l.add_submission(submission)"
   ]
  },
  {
   "cell_type": "code",
   "execution_count": null,
   "metadata": {},
   "outputs": [],
   "source": [
    "l.add_words_from_tree()\n",
    "l.to_graph()\n",
    "l.create_text_output(\"output/nbacomments.txt\")\n",
    "\n"
   ]
  },
  {
   "cell_type": "code",
   "execution_count": null,
   "metadata": {},
   "outputs": [],
   "source": [
    "file1 = open(\"output/testoutputnba.txt\",\"w\", encoding='utf-8')\n",
    "file1.write(\"total words: \" + str(l.total_words) + \"\\n\")\n",
    "for word in l.words:\n",
    "    file1.write(str(word) + \"\\n\")\n",
    "file1.close()"
   ]
  },
  {
   "cell_type": "code",
   "execution_count": null,
   "metadata": {},
   "outputs": [],
   "source": []
  }
 ],
 "metadata": {
  "kernelspec": {
   "display_name": "redditproj",
   "language": "python",
   "name": "redditproj"
  },
  "language_info": {
   "codemirror_mode": {
    "name": "ipython",
    "version": 3
   },
   "file_extension": ".py",
   "mimetype": "text/x-python",
   "name": "python",
   "nbconvert_exporter": "python",
   "pygments_lexer": "ipython3",
   "version": "3.8.3"
  }
 },
 "nbformat": 4,
 "nbformat_minor": 4
}
